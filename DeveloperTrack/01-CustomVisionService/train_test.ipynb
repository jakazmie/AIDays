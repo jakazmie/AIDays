{
 "cells": [
  {
   "cell_type": "markdown",
   "metadata": {},
   "source": [
    "# Train, evaluate, and test\n"
   ]
  },
  {
   "cell_type": "markdown",
   "metadata": {},
   "source": [
    "## Lab setup"
   ]
  },
  {
   "cell_type": "markdown",
   "metadata": {},
   "source": [
    "### Install Custom Vision Service SDK"
   ]
  },
  {
   "cell_type": "code",
   "execution_count": null,
   "metadata": {},
   "outputs": [],
   "source": [
    "# Install Custom Vision Service SDK  in the current Jupyter kernel\n",
    "import sys\n",
    "!{sys.executable} -m pip install azure-cognitiveservices-vision-customvision"
   ]
  },
  {
   "cell_type": "markdown",
   "metadata": {},
   "source": [
    "### Get example images\n"
   ]
  },
  {
   "cell_type": "code",
   "execution_count": null,
   "metadata": {},
   "outputs": [],
   "source": [
    "%%sh\n",
    "wget -nv https://azureailabs.blob.core.windows.net/aerialsamples/aerial.zip\n",
    "unzip aerial.zip"
   ]
  },
  {
   "cell_type": "markdown",
   "metadata": {},
   "source": [
    "### Get the training and prediction keys\n",
    "To get the keys used in this example, navigate to Custom Vision Training blade in Azure Portal and retrieve the training key from the **Keys** page under **Resource Management** section. Repeat for Custom Vision Prediction service."
   ]
  },
  {
   "cell_type": "code",
   "execution_count": null,
   "metadata": {},
   "outputs": [],
   "source": [
    "from azure.cognitiveservices.vision.customvision.training import training_api\n",
    "\n",
    "training_key = '<your training key>'\n",
    "prediction_key = '<your prediction key>'\n",
    "\n",
    "trainer = training_api.TrainingApi(training_key)"
   ]
  },
  {
   "cell_type": "markdown",
   "metadata": {},
   "source": [
    "### Create a Custom Vision Service project"
   ]
  },
  {
   "cell_type": "code",
   "execution_count": null,
   "metadata": {},
   "outputs": [],
   "source": [
    "project_name = 'AerialClassifier'\n",
    "\n",
    "# Check if the project with that name exists\n",
    "project_id = None\n",
    "for project in trainer.get_projects():\n",
    "    if project.name == project_name:\n",
    "        project_id = project.id\n",
    "        print(\"Found existing project: {0}\".format(project_id))\n",
    "        break\n",
    "# Create a new project        \n",
    "if project_id == None:\n",
    "    print(\"Creating a new project\")\n",
    "    project = trainer.create_project(project_name)\n",
    "    project_id = project.id\n"
   ]
  },
  {
   "cell_type": "markdown",
   "metadata": {},
   "source": [
    "## Train"
   ]
  },
  {
   "cell_type": "markdown",
   "metadata": {},
   "source": [
    "### Upload and tag images \n",
    "The API used to upload images `create_images_from_files` uploads a batch of images at a time. The maximum supported batch size is 64. "
   ]
  },
  {
   "cell_type": "code",
   "execution_count": null,
   "metadata": {},
   "outputs": [],
   "source": [
    "import os\n",
    "from azure.cognitiveservices.vision.customvision.training.models import ImageFileCreateEntry, Region\n",
    "\n",
    "# Define a utility function to upload a list of images\n",
    "def upload_images(training_key, project_id, image_list, batch_size=64):\n",
    "    trainer = training_api.TrainingApi(training_key)\n",
    "    print(\"Starting upload ...\")\n",
    "    image_batches = [image_list[start: start+batch_size] for start in range(0, len(image_list), batch_size)]\n",
    "    for batch in image_batches:\n",
    "        image_entry_batch = []\n",
    "        for tag, pathname, file_name in batch:\n",
    "            with open(pathname, mode='rb') as image_contents:\n",
    "                image_entry_batch.append(ImageFileCreateEntry(name=file_name, contents=image_contents.read(), tag_ids=[tag]))\n",
    "        summary = trainer.create_images_from_files(project_id, images=image_entry_batch)\n",
    "    print(\"Done.\")\n",
    "    return summary\n"
   ]
  },
  {
   "cell_type": "code",
   "execution_count": null,
   "metadata": {},
   "outputs": [],
   "source": [
    "# Create tags. Check for existing tags before creating new ones\n",
    "tags = trainer.get_tags(project_id)\n",
    "if len(tags) == 0:\n",
    "    tags = [trainer.create_tag(project_id, tag) for tag in ['Barren', 'Developed', 'Cultivated']]\n",
    "\n",
    "tag_map = {tag.name: tag.id for tag in tags}\n",
    "\n",
    "# Upload images\n",
    "base_folder = 'aerial/train'\n",
    "image_list = [(tag_map[folder], os.path.join(base_folder, folder, filename), filename)  for folder in ['Barren','Cultivated', 'Developed'] for filename in os.listdir(os.path.join(base_folder, folder))]\n",
    "summary = upload_images(training_key, project_id, image_list, batch_size = 64)\n"
   ]
  },
  {
   "cell_type": "markdown",
   "metadata": {},
   "source": [
    "### Train the first iteration of the project\n"
   ]
  },
  {
   "cell_type": "code",
   "execution_count": null,
   "metadata": {},
   "outputs": [],
   "source": [
    "import time\n",
    "\n",
    "def train(training_key, project_id):\n",
    "    trainer = training_api.TrainingApi(training_key)\n",
    "    print(\"Starting training...\")\n",
    "    try:\n",
    "        iteration = trainer.train_project(project.id)\n",
    "    except:\n",
    "        print(\"No need to retrain\")\n",
    "        return\n",
    "    \n",
    "    while (iteration.status != \"Completed\"):\n",
    "        iteration = trainer.get_iteration(project.id, iteration.id)\n",
    "        print (\"Training status: \" + iteration.status)\n",
    "        time.sleep(2)\n",
    "\n",
    "    # The iteration is now trained. Make it the default project endpoint\n",
    "    trainer.update_iteration(project_id, iteration.id, is_default=True)\n",
    "    print(\"Done\")\n",
    "    return iteration.id"
   ]
  },
  {
   "cell_type": "code",
   "execution_count": null,
   "metadata": {},
   "outputs": [],
   "source": [
    "# Start training\n",
    "iteration_id = train(training_key, project_id)"
   ]
  },
  {
   "cell_type": "markdown",
   "metadata": {},
   "source": [
    "### Get iteration performance "
   ]
  },
  {
   "cell_type": "code",
   "execution_count": null,
   "metadata": {},
   "outputs": [],
   "source": [
    "def display_iteration_performance(training_key, project_id, iteration_id):\n",
    "    trainer = training_api.TrainingApi(training_key)\n",
    "    performance = trainer.get_iteration_performance(project_id, iteration_id)\n",
    "    print(\"Overall Precision: {0:<10}\".format(performance.precision))\n",
    "    print(\"Overall Recall:    {0:<10}\".format(performance.recall))\n",
    "    for tag_perf in performance.per_tag_performance:\n",
    "        print(\"Tag: {0:<15} Precision: {1:<10}   Recall: {2:<10}\".format(tag_perf.name, tag_perf.precision, tag_perf.recall))"
   ]
  },
  {
   "cell_type": "code",
   "execution_count": null,
   "metadata": {},
   "outputs": [],
   "source": [
    "display_iteration_performance(training_key, project_id, iteration_id)"
   ]
  },
  {
   "cell_type": "markdown",
   "metadata": {},
   "source": [
    "### Upload additional images"
   ]
  },
  {
   "cell_type": "code",
   "execution_count": null,
   "metadata": {},
   "outputs": [],
   "source": [
    "# Upload images\n",
    "base_folder = 'aerial/train'\n",
    "folder = 'Developed-SecondBatch'\n",
    "image_list = [(tag_map['Developed'], os.path.join(base_folder, folder, filename), filename)  for filename in os.listdir(os.path.join(base_folder, folder))]\n",
    "\n",
    "summary = upload_images(training_key, project_id, image_list, batch_size = 64)"
   ]
  },
  {
   "cell_type": "markdown",
   "metadata": {},
   "source": [
    "### Re-train the project\n"
   ]
  },
  {
   "cell_type": "code",
   "execution_count": null,
   "metadata": {},
   "outputs": [],
   "source": [
    "# Start training\n",
    "iteration_id = train(training_key, project_id)"
   ]
  },
  {
   "cell_type": "code",
   "execution_count": null,
   "metadata": {},
   "outputs": [],
   "source": [
    "display_iteration_performance(training_key, project_id, iteration_id)"
   ]
  },
  {
   "cell_type": "markdown",
   "metadata": {},
   "source": [
    "## Test"
   ]
  },
  {
   "cell_type": "markdown",
   "metadata": {},
   "source": [
    "### Download test images"
   ]
  },
  {
   "cell_type": "code",
   "execution_count": null,
   "metadata": {},
   "outputs": [],
   "source": [
    "%%sh\n",
    "mkdir test_images\n",
    "cd test_images\n",
    "wget -nv https://github.com/jakazmie/AIDays/raw/master/DeveloperTrack/01-CustomVisionService/samples/barren-1.png\n",
    "wget -nv https://github.com/jakazmie/AIDays/raw/master/DeveloperTrack/01-CustomVisionService/samples/cultivated-1.png\n",
    "wget -nv https://github.com/jakazmie/AIDays/raw/master/DeveloperTrack/01-CustomVisionService/samples/developed-1.png"
   ]
  },
  {
   "cell_type": "markdown",
   "metadata": {},
   "source": [
    "### Display test images\n",
    "\n",
    "The images we will use for testing are located in the `samples` folder."
   ]
  },
  {
   "cell_type": "code",
   "execution_count": null,
   "metadata": {},
   "outputs": [],
   "source": [
    "import os\n",
    "import numpy as np\n",
    "from PIL import Image\n",
    "import matplotlib.pyplot as plt\n",
    "from matplotlib.pyplot import imshow\n",
    "%matplotlib inline\n",
    "\n",
    "images_dir = 'test_images'\n",
    "images = [os.path.join(images_dir, file) for file in os.listdir(images_dir)]\n",
    "\n",
    "figsize=(10, 8)\n",
    "fig, axis = plt.subplots(len(images)//3, 3, figsize=figsize)\n",
    "fig.tight_layout()\n",
    "for ax, image_path in zip(axis.flat[0:], images):\n",
    "    image = Image.open(image_path)\n",
    "    ax.get_xaxis().set_visible(False)\n",
    "    ax.get_yaxis().set_visible(False)\n",
    "    ax.imshow(image)"
   ]
  },
  {
   "cell_type": "markdown",
   "metadata": {},
   "source": [
    " ### Test with `curl`\n",
    " "
   ]
  },
  {
   "cell_type": "code",
   "execution_count": null,
   "metadata": {},
   "outputs": [],
   "source": [
    "%env PROJECT_ID=$project_id\n",
    "%env PREDICTION_KEY=$prediction_key"
   ]
  },
  {
   "cell_type": "code",
   "execution_count": null,
   "metadata": {},
   "outputs": [],
   "source": [
    "%%sh\n",
    "\n",
    "curl -X POST https://southcentralus.api.cognitive.microsoft.com/customvision/v2.0/Prediction/$PROJECT_ID/image -H \"Prediction-Key: $PREDICTION_KEY\"  -H \"Content-Type: application/octet-stream\" --data-binary @test_images/developed-1.png"
   ]
  },
  {
   "cell_type": "markdown",
   "metadata": {},
   "source": [
    "### Call the prediction endpoint using Python SDK\n",
    "\n",
    "Python SDK wraps the prediction endpoint in the `prediction_endpoint` class. The class exposes the `predict_image` method that takes a Python File Object as parameter. The following code snippet defines a utility function `classify_image` that invokes the prediction endpoint and parses the results returned from the service."
   ]
  },
  {
   "cell_type": "code",
   "execution_count": null,
   "metadata": {},
   "outputs": [],
   "source": [
    "from azure.cognitiveservices.vision.customvision.prediction import prediction_endpoint\n",
    "from azure.cognitiveservices.vision.customvision.prediction.prediction_endpoint import models\n",
    "\n",
    "def classify_image(project_id, prediction_key, image_path):\n",
    "    predictor = prediction_endpoint.PredictionEndpoint(prediction_key)\n",
    "    with open(image_path, mode='rb') as image:\n",
    "      result = predictor.predict_image(project_id, image)    \n",
    "    probs = [prediction.probability for prediction in result.predictions]\n",
    "    max_prob = max(probs)\n",
    "    max_index = probs.index(max_prob)\n",
    "    tag = result.predictions[max_index].tag_name\n",
    "\n",
    "    return tag, max_prob"
   ]
  },
  {
   "cell_type": "markdown",
   "metadata": {},
   "source": [
    "We will now invoke the prediction endpoint and display the results returned by the service."
   ]
  },
  {
   "cell_type": "code",
   "execution_count": null,
   "metadata": {},
   "outputs": [],
   "source": [
    "figsize=(10, 8)\n",
    "fig, axis = plt.subplots(len(images)//3, 3, figsize=figsize)\n",
    "fig.tight_layout()\n",
    "for ax, image_path in zip(axis.flat[0:], images):\n",
    "    tag, prob = classify_image(project_id, prediction_key, image_path)\n",
    "    ax.set_title(tag + ': ' + str(prob))\n",
    "    ax.get_xaxis().set_visible(False)\n",
    "    ax.get_yaxis().set_visible(False)\n",
    "    image = Image.open(image_path)\n",
    "    ax.imshow(image)"
   ]
  },
  {
   "cell_type": "code",
   "execution_count": null,
   "metadata": {},
   "outputs": [],
   "source": []
  }
 ],
 "metadata": {
  "kernelspec": {
   "display_name": "Python 3",
   "language": "python",
   "name": "python3"
  },
  "language_info": {
   "codemirror_mode": {
    "name": "ipython",
    "version": 3
   },
   "file_extension": ".py",
   "mimetype": "text/x-python",
   "name": "python",
   "nbconvert_exporter": "python",
   "pygments_lexer": "ipython3",
   "version": "3.6.5"
  }
 },
 "nbformat": 4,
 "nbformat_minor": 2
}
